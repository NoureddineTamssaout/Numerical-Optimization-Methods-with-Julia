{
 "cells": [
  {
   "cell_type": "code",
   "execution_count": 1,
   "id": "85cfbc62-67ce-40ba-9a4e-5f75b8bf8699",
   "metadata": {},
   "outputs": [
    {
     "name": "stdout",
     "output_type": "stream",
     "text": [
      "Pas optimal trouvé avec Armijo : 0.5\n",
      "Point mis à jour : [-2.8755664516211255e-11, -2.8755664516211255e-11]\n"
     ]
    }
   ],
   "source": [
    "using LinearAlgebra\n",
    "\n",
    "# Gradient numérique pour une fonction scalaire\n",
    "function grad(f, x)\n",
    "    e = 1e-6\n",
    "    g = zeros(length(x))\n",
    "    for i in 1:length(x)\n",
    "        h = zeros(length(x))\n",
    "        h[i] = e\n",
    "        g[i] = (f(x + h) - f(x - h)) / (2 * e)\n",
    "    end\n",
    "    return g\n",
    "end\n",
    "\n",
    "# Recherche linéaire d'Armijo\n",
    "function armijo_line_search(f, x, d; alpha=1.0, beta=0.5, sigma=1e-4, max_iter=100)\n",
    "    \"\"\"\n",
    "    Recherche linéaire d'Armijo pour ajuster le pas dans une direction donnée.\n",
    "\n",
    "    Arguments:\n",
    "    - f: Fonction scalaire à minimiser.\n",
    "    - x: Point courant.\n",
    "    - d: Direction de descente.\n",
    "    \n",
    "    Paramètres optionnels:\n",
    "    - alpha: Pas initial (par défaut 1.0).\n",
    "    - beta: Facteur de réduction du pas (par défaut 0.5).\n",
    "    - sigma: Paramètre de la condition d'Armijo (par défaut 1e-4).\n",
    "    - max_iter: Nombre maximal d'itérations (par défaut 100).\n",
    "\n",
    "    Retourne:\n",
    "    - Pas ajusté qui satisfait la condition d'Armijo.\n",
    "    \"\"\"\n",
    "    grad_f = grad(f, x)\n",
    "    iter = 0\n",
    "\n",
    "    while iter < max_iter\n",
    "        if f(x + alpha * d) <= f(x) + sigma * alpha * dot(grad_f, d)\n",
    "            return alpha  # Condition d'Armijo satisfaite\n",
    "        end\n",
    "        alpha *= beta  # Réduction du pas\n",
    "        iter += 1\n",
    "    end\n",
    "\n",
    "    println(\"Recherche linéaire: condition d'Armijo non satisfaite après $max_iter itérations.\")\n",
    "    return alpha  # Retourne le meilleur alpha trouvé\n",
    "end\n",
    "\n",
    "# Exemple d'utilisation\n",
    "function f(x)\n",
    "    return x[1]^2 + x[2]^2  # Fonction quadratique\n",
    "end\n",
    "\n",
    "# Point initial\n",
    "x0 = [1.0, 1.0]\n",
    "\n",
    "# Direction de descente (gradient négatif dans cet exemple)\n",
    "d = -grad(f, x0)\n",
    "\n",
    "# Recherche linéaire\n",
    "alpha = armijo_line_search(f, x0, d; alpha=1.0, beta=0.5, sigma=1e-4)\n",
    "\n",
    "println(\"Pas optimal trouvé avec Armijo : \", alpha)\n",
    "println(\"Point mis à jour : \", x0 + alpha * d)\n"
   ]
  }
 ],
 "metadata": {
  "kernelspec": {
   "display_name": "Julia 1.10.5",
   "language": "julia",
   "name": "julia-1.10"
  },
  "language_info": {
   "file_extension": ".jl",
   "mimetype": "application/julia",
   "name": "julia",
   "version": "1.10.5"
  }
 },
 "nbformat": 4,
 "nbformat_minor": 5
}
